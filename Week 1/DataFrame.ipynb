{
 "cells": [
  {
   "cell_type": "code",
   "execution_count": 2,
   "id": "c30065c9",
   "metadata": {},
   "outputs": [],
   "source": [
    "import pandas as pd\n",
    "import numpy as np\n",
    "data = {'Roll no':[1,2,3,4,5,6,7,8,9,10],\n",
    "        \"Name\":[\"Aditya\",\"Tanish\",\"Rushikesh\",\"Chirag\",\"Om\",\"Samruddhi\",\"Ananya\",\"Snehal\",\"Siddhesh\",\"Devanshi\"],\n",
    "        \"Gender\":[\"M\",\"M\",\"M\",\"M\",\"M\",\"F\",\"F\",\"F\",\"M\",\"F\"],\n",
    "        \"Marks1\":[89,67,90,30,56,70,75,88,87,92],\n",
    "        \"Marks2\":[83,63,93,39,28,69,71,90,84,88],\n",
    "        \"Marks3\":[95,70,94,65,67,74,36,93,88,90]}\n",
    "df = pd.DataFrame(data)\n",
    "sum_column = df[\"Marks1\"]+df[\"Marks2\"]+df[\"Marks3\"]\n",
    "avg_column = (df[\"Marks1\"]+df[\"Marks2\"]+df[\"Marks3\"])/3\n",
    "df['Total Marks']=sum_column\n",
    "df['Avg marks']=avg_column"
   ]
  },
  {
   "cell_type": "code",
   "execution_count": 3,
   "id": "bda5d5c6",
   "metadata": {},
   "outputs": [
    {
     "data": {
      "text/html": [
       "<div>\n",
       "<style scoped>\n",
       "    .dataframe tbody tr th:only-of-type {\n",
       "        vertical-align: middle;\n",
       "    }\n",
       "\n",
       "    .dataframe tbody tr th {\n",
       "        vertical-align: top;\n",
       "    }\n",
       "\n",
       "    .dataframe thead th {\n",
       "        text-align: right;\n",
       "    }\n",
       "</style>\n",
       "<table border=\"1\" class=\"dataframe\">\n",
       "  <thead>\n",
       "    <tr style=\"text-align: right;\">\n",
       "      <th></th>\n",
       "      <th>Roll no</th>\n",
       "      <th>Name</th>\n",
       "      <th>Gender</th>\n",
       "      <th>Marks1</th>\n",
       "      <th>Marks2</th>\n",
       "      <th>Marks3</th>\n",
       "      <th>Total Marks</th>\n",
       "      <th>Avg marks</th>\n",
       "    </tr>\n",
       "  </thead>\n",
       "  <tbody>\n",
       "    <tr>\n",
       "      <th>0</th>\n",
       "      <td>1</td>\n",
       "      <td>Aditya</td>\n",
       "      <td>M</td>\n",
       "      <td>89</td>\n",
       "      <td>83</td>\n",
       "      <td>95</td>\n",
       "      <td>267</td>\n",
       "      <td>89.000000</td>\n",
       "    </tr>\n",
       "    <tr>\n",
       "      <th>1</th>\n",
       "      <td>2</td>\n",
       "      <td>Tanish</td>\n",
       "      <td>M</td>\n",
       "      <td>67</td>\n",
       "      <td>63</td>\n",
       "      <td>70</td>\n",
       "      <td>200</td>\n",
       "      <td>66.666667</td>\n",
       "    </tr>\n",
       "    <tr>\n",
       "      <th>2</th>\n",
       "      <td>3</td>\n",
       "      <td>Rushikesh</td>\n",
       "      <td>M</td>\n",
       "      <td>90</td>\n",
       "      <td>93</td>\n",
       "      <td>94</td>\n",
       "      <td>277</td>\n",
       "      <td>92.333333</td>\n",
       "    </tr>\n",
       "    <tr>\n",
       "      <th>3</th>\n",
       "      <td>4</td>\n",
       "      <td>Chirag</td>\n",
       "      <td>M</td>\n",
       "      <td>30</td>\n",
       "      <td>39</td>\n",
       "      <td>65</td>\n",
       "      <td>134</td>\n",
       "      <td>44.666667</td>\n",
       "    </tr>\n",
       "    <tr>\n",
       "      <th>4</th>\n",
       "      <td>5</td>\n",
       "      <td>Om</td>\n",
       "      <td>M</td>\n",
       "      <td>56</td>\n",
       "      <td>28</td>\n",
       "      <td>67</td>\n",
       "      <td>151</td>\n",
       "      <td>50.333333</td>\n",
       "    </tr>\n",
       "    <tr>\n",
       "      <th>5</th>\n",
       "      <td>6</td>\n",
       "      <td>Samruddhi</td>\n",
       "      <td>F</td>\n",
       "      <td>70</td>\n",
       "      <td>69</td>\n",
       "      <td>74</td>\n",
       "      <td>213</td>\n",
       "      <td>71.000000</td>\n",
       "    </tr>\n",
       "    <tr>\n",
       "      <th>6</th>\n",
       "      <td>7</td>\n",
       "      <td>Ananya</td>\n",
       "      <td>F</td>\n",
       "      <td>75</td>\n",
       "      <td>71</td>\n",
       "      <td>36</td>\n",
       "      <td>182</td>\n",
       "      <td>60.666667</td>\n",
       "    </tr>\n",
       "    <tr>\n",
       "      <th>7</th>\n",
       "      <td>8</td>\n",
       "      <td>Snehal</td>\n",
       "      <td>F</td>\n",
       "      <td>88</td>\n",
       "      <td>90</td>\n",
       "      <td>93</td>\n",
       "      <td>271</td>\n",
       "      <td>90.333333</td>\n",
       "    </tr>\n",
       "    <tr>\n",
       "      <th>8</th>\n",
       "      <td>9</td>\n",
       "      <td>Siddhesh</td>\n",
       "      <td>M</td>\n",
       "      <td>87</td>\n",
       "      <td>84</td>\n",
       "      <td>88</td>\n",
       "      <td>259</td>\n",
       "      <td>86.333333</td>\n",
       "    </tr>\n",
       "    <tr>\n",
       "      <th>9</th>\n",
       "      <td>10</td>\n",
       "      <td>Devanshi</td>\n",
       "      <td>F</td>\n",
       "      <td>92</td>\n",
       "      <td>88</td>\n",
       "      <td>90</td>\n",
       "      <td>270</td>\n",
       "      <td>90.000000</td>\n",
       "    </tr>\n",
       "  </tbody>\n",
       "</table>\n",
       "</div>"
      ],
      "text/plain": [
       "   Roll no       Name Gender  Marks1  Marks2  Marks3  Total Marks  Avg marks\n",
       "0        1     Aditya      M      89      83      95          267  89.000000\n",
       "1        2     Tanish      M      67      63      70          200  66.666667\n",
       "2        3  Rushikesh      M      90      93      94          277  92.333333\n",
       "3        4     Chirag      M      30      39      65          134  44.666667\n",
       "4        5         Om      M      56      28      67          151  50.333333\n",
       "5        6  Samruddhi      F      70      69      74          213  71.000000\n",
       "6        7     Ananya      F      75      71      36          182  60.666667\n",
       "7        8     Snehal      F      88      90      93          271  90.333333\n",
       "8        9   Siddhesh      M      87      84      88          259  86.333333\n",
       "9       10   Devanshi      F      92      88      90          270  90.000000"
      ]
     },
     "execution_count": 3,
     "metadata": {},
     "output_type": "execute_result"
    }
   ],
   "source": [
    "df"
   ]
  },
  {
   "cell_type": "code",
   "execution_count": 4,
   "id": "b1ac13b5",
   "metadata": {},
   "outputs": [
    {
     "name": "stdout",
     "output_type": "stream",
     "text": [
      "Minimum marks in Marks1 is \n"
     ]
    },
    {
     "data": {
      "text/plain": [
       "30"
      ]
     },
     "execution_count": 4,
     "metadata": {},
     "output_type": "execute_result"
    }
   ],
   "source": [
    "varMin=df[\"Marks1\"].min()\n",
    "print(\"Lowest marks in Marks1 is \")\n",
    "varMin"
   ]
  },
  {
   "cell_type": "code",
   "execution_count": 5,
   "id": "b819b159",
   "metadata": {},
   "outputs": [
    {
     "name": "stdout",
     "output_type": "stream",
     "text": [
      "Maximum marks in Marks2 is \n"
     ]
    },
    {
     "data": {
      "text/plain": [
       "93"
      ]
     },
     "execution_count": 5,
     "metadata": {},
     "output_type": "execute_result"
    }
   ],
   "source": [
    "varMax=df[\"Marks2\"].max()\n",
    "print(\"Highest marks in Marks2 is \")\n",
    "varMax"
   ]
  },
  {
   "cell_type": "code",
   "execution_count": 6,
   "id": "1f23ca87",
   "metadata": {},
   "outputs": [
    {
     "name": "stdout",
     "output_type": "stream",
     "text": [
      "Average in Marks3 is \n"
     ]
    },
    {
     "data": {
      "text/plain": [
       "77.2"
      ]
     },
     "execution_count": 6,
     "metadata": {},
     "output_type": "execute_result"
    }
   ],
   "source": [
    "varAvg=df[\"Marks3\"].mean()\n",
    "print(\"Average in Marks3 is \")\n",
    "varAvg"
   ]
  },
  {
   "cell_type": "code",
   "execution_count": 7,
   "id": "aca93e33",
   "metadata": {},
   "outputs": [
    {
     "name": "stdout",
     "output_type": "stream",
     "text": [
      "Student with highest average marks\n"
     ]
    },
    {
     "data": {
      "text/html": [
       "<div>\n",
       "<style scoped>\n",
       "    .dataframe tbody tr th:only-of-type {\n",
       "        vertical-align: middle;\n",
       "    }\n",
       "\n",
       "    .dataframe tbody tr th {\n",
       "        vertical-align: top;\n",
       "    }\n",
       "\n",
       "    .dataframe thead th {\n",
       "        text-align: right;\n",
       "    }\n",
       "</style>\n",
       "<table border=\"1\" class=\"dataframe\">\n",
       "  <thead>\n",
       "    <tr style=\"text-align: right;\">\n",
       "      <th></th>\n",
       "      <th>Roll no</th>\n",
       "      <th>Name</th>\n",
       "      <th>Gender</th>\n",
       "      <th>Marks1</th>\n",
       "      <th>Marks2</th>\n",
       "      <th>Marks3</th>\n",
       "      <th>Total Marks</th>\n",
       "      <th>Avg marks</th>\n",
       "    </tr>\n",
       "  </thead>\n",
       "  <tbody>\n",
       "    <tr>\n",
       "      <th>2</th>\n",
       "      <td>3</td>\n",
       "      <td>Rushikesh</td>\n",
       "      <td>M</td>\n",
       "      <td>90</td>\n",
       "      <td>93</td>\n",
       "      <td>94</td>\n",
       "      <td>277</td>\n",
       "      <td>92.333333</td>\n",
       "    </tr>\n",
       "  </tbody>\n",
       "</table>\n",
       "</div>"
      ],
      "text/plain": [
       "   Roll no       Name Gender  Marks1  Marks2  Marks3  Total Marks  Avg marks\n",
       "2        3  Rushikesh      M      90      93      94          277  92.333333"
      ]
     },
     "execution_count": 7,
     "metadata": {},
     "output_type": "execute_result"
    }
   ],
   "source": [
    "print(\"Student with highest average marks\")\n",
    "df.nlargest(1,columns=[\"Avg marks\"])\n"
   ]
  },
  {
   "cell_type": "code",
   "execution_count": 8,
   "id": "5218c405",
   "metadata": {},
   "outputs": [
    {
     "name": "stdout",
     "output_type": "stream",
     "text": [
      "Students who failed the exam\n"
     ]
    },
    {
     "data": {
      "text/plain": [
       "0    False\n",
       "1    False\n",
       "2    False\n",
       "3     True\n",
       "4     True\n",
       "5    False\n",
       "6    False\n",
       "7    False\n",
       "8    False\n",
       "9    False\n",
       "Name: Marks2, dtype: bool"
      ]
     },
     "execution_count": 8,
     "metadata": {},
     "output_type": "execute_result"
    }
   ],
   "source": [
    "print(\"Students failed in Marks2\")\n",
    "df[\"Marks2\"]<40\n",
    "\n"
   ]
  },
  {
   "cell_type": "code",
   "execution_count": null,
   "id": "5c7d3c84",
   "metadata": {},
   "outputs": [],
   "source": []
  },
  {
   "cell_type": "code",
   "execution_count": null,
   "id": "5b0eb6d3",
   "metadata": {},
   "outputs": [],
   "source": []
  }
 ],
 "metadata": {
  "kernelspec": {
   "display_name": "Python 3",
   "language": "python",
   "name": "python3"
  },
  "language_info": {
   "codemirror_mode": {
    "name": "ipython",
    "version": 3
   },
   "file_extension": ".py",
   "mimetype": "text/x-python",
   "name": "python",
   "nbconvert_exporter": "python",
   "pygments_lexer": "ipython3",
   "version": "3.8.8"
  }
 },
 "nbformat": 4,
 "nbformat_minor": 5
}
